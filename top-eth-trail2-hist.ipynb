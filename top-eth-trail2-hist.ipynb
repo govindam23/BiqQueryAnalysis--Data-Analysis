{
 "cells": [
  {
   "cell_type": "code",
   "execution_count": 4,
   "metadata": {},
   "outputs": [
    {
     "name": "stdout",
     "output_type": "stream",
     "text": [
      "Note: you may need to restart the kernel to use updated packages.\n"
     ]
    },
    {
     "name": "stderr",
     "output_type": "stream",
     "text": [
      "ERROR: Invalid requirement: \"'google-cloud-bigquery[bqstorage,pandas]'\"\n"
     ]
    }
   ],
   "source": [
    "pip install --upgrade 'google-cloud-bigquery[bqstorage,pandas]'"
   ]
  },
  {
   "cell_type": "code",
   "execution_count": 5,
   "metadata": {},
   "outputs": [
    {
     "name": "stdout",
     "output_type": "stream",
     "text": [
      "Requirement already satisfied: web3 in c:\\users\\abhis\\appdata\\local\\packages\\pythonsoftwarefoundation.python.3.9_qbz5n2kfra8p0\\localcache\\local-packages\\python39\\site-packages (5.28.0)\n",
      "Requirement already satisfied: eth-typing<3.0.0,>=2.0.0 in c:\\users\\abhis\\appdata\\local\\packages\\pythonsoftwarefoundation.python.3.9_qbz5n2kfra8p0\\localcache\\local-packages\\python39\\site-packages (from web3) (2.3.0)\n",
      "Requirement already satisfied: hexbytes<1.0.0,>=0.1.0 in c:\\users\\abhis\\appdata\\local\\packages\\pythonsoftwarefoundation.python.3.9_qbz5n2kfra8p0\\localcache\\local-packages\\python39\\site-packages (from web3) (0.2.2)\n",
      "Requirement already satisfied: eth-abi<3.0.0,>=2.0.0b6 in c:\\users\\abhis\\appdata\\local\\packages\\pythonsoftwarefoundation.python.3.9_qbz5n2kfra8p0\\localcache\\local-packages\\python39\\site-packages (from web3) (2.1.1)\n",
      "Requirement already satisfied: ipfshttpclient==0.8.0a2 in c:\\users\\abhis\\appdata\\local\\packages\\pythonsoftwarefoundation.python.3.9_qbz5n2kfra8p0\\localcache\\local-packages\\python39\\site-packages (from web3) (0.8.0a2)\n",
      "Requirement already satisfied: pywin32>=223 in c:\\users\\abhis\\appdata\\local\\packages\\pythonsoftwarefoundation.python.3.9_qbz5n2kfra8p0\\localcache\\local-packages\\python39\\site-packages (from web3) (303)\n",
      "Requirement already satisfied: lru-dict<2.0.0,>=1.1.6 in c:\\users\\abhis\\appdata\\local\\packages\\pythonsoftwarefoundation.python.3.9_qbz5n2kfra8p0\\localcache\\local-packages\\python39\\site-packages (from web3) (1.1.7)\n",
      "Requirement already satisfied: eth-hash[pycryptodome]<1.0.0,>=0.2.0 in c:\\users\\abhis\\appdata\\local\\packages\\pythonsoftwarefoundation.python.3.9_qbz5n2kfra8p0\\localcache\\local-packages\\python39\\site-packages (from web3) (0.3.2)\n",
      "Requirement already satisfied: eth-utils<2.0.0,>=1.9.5 in c:\\users\\abhis\\appdata\\local\\packages\\pythonsoftwarefoundation.python.3.9_qbz5n2kfra8p0\\localcache\\local-packages\\python39\\site-packages (from web3) (1.10.0)\n",
      "Note: you may need to restart the kernel to use updated packages.Requirement already satisfied: aiohttp<4,>=3.7.4.post0 in c:\\users\\abhis\\appdata\\local\\packages\\pythonsoftwarefoundation.python.3.9_qbz5n2kfra8p0\\localcache\\local-packages\\python39\\site-packages (from web3) (3.8.1)\n",
      "Requirement already satisfied: websockets<10,>=9.1 in c:\\users\\abhis\\appdata\\local\\packages\\pythonsoftwarefoundation.python.3.9_qbz5n2kfra8p0\\localcache\\local-packages\\python39\\site-packages (from web3) (9.1)\n",
      "Requirement already satisfied: jsonschema<4.0.0,>=3.2.0 in c:\\users\\abhis\\appdata\\local\\packages\\pythonsoftwarefoundation.python.3.9_qbz5n2kfra8p0\\localcache\\local-packages\\python39\\site-packages (from web3) (3.2.0)\n",
      "Requirement already satisfied: requests<3.0.0,>=2.16.0 in c:\\users\\abhis\\appdata\\local\\packages\\pythonsoftwarefoundation.python.3.9_qbz5n2kfra8p0\\localcache\\local-packages\\python39\\site-packages (from web3) (2.27.1)\n",
      "\n",
      "Requirement already satisfied: protobuf<4,>=3.10.0 in c:\\users\\abhis\\appdata\\local\\packages\\pythonsoftwarefoundation.python.3.9_qbz5n2kfra8p0\\localcache\\local-packages\\python39\\site-packages (from web3) (3.19.4)\n",
      "Requirement already satisfied: eth-account<0.6.0,>=0.5.7 in c:\\users\\abhis\\appdata\\local\\packages\\pythonsoftwarefoundation.python.3.9_qbz5n2kfra8p0\\localcache\\local-packages\\python39\\site-packages (from web3) (0.5.7)\n",
      "Requirement already satisfied: multiaddr>=0.0.7 in c:\\users\\abhis\\appdata\\local\\packages\\pythonsoftwarefoundation.python.3.9_qbz5n2kfra8p0\\localcache\\local-packages\\python39\\site-packages (from ipfshttpclient==0.8.0a2->web3) (0.0.9)\n",
      "Requirement already satisfied: multidict<7.0,>=4.5 in c:\\users\\abhis\\appdata\\local\\packages\\pythonsoftwarefoundation.python.3.9_qbz5n2kfra8p0\\localcache\\local-packages\\python39\\site-packages (from aiohttp<4,>=3.7.4.post0->web3) (6.0.2)\n",
      "Requirement already satisfied: async-timeout<5.0,>=4.0.0a3 in c:\\users\\abhis\\appdata\\local\\packages\\pythonsoftwarefoundation.python.3.9_qbz5n2kfra8p0\\localcache\\local-packages\\python39\\site-packages (from aiohttp<4,>=3.7.4.post0->web3) (4.0.2)\n",
      "Requirement already satisfied: yarl<2.0,>=1.0 in c:\\users\\abhis\\appdata\\local\\packages\\pythonsoftwarefoundation.python.3.9_qbz5n2kfra8p0\\localcache\\local-packages\\python39\\site-packages (from aiohttp<4,>=3.7.4.post0->web3) (1.7.2)\n",
      "Requirement already satisfied: charset-normalizer<3.0,>=2.0 in c:\\users\\abhis\\appdata\\local\\packages\\pythonsoftwarefoundation.python.3.9_qbz5n2kfra8p0\\localcache\\local-packages\\python39\\site-packages (from aiohttp<4,>=3.7.4.post0->web3) (2.0.12)\n",
      "Requirement already satisfied: frozenlist>=1.1.1 in c:\\users\\abhis\\appdata\\local\\packages\\pythonsoftwarefoundation.python.3.9_qbz5n2kfra8p0\\localcache\\local-packages\\python39\\site-packages (from aiohttp<4,>=3.7.4.post0->web3) (1.3.0)\n",
      "Requirement already satisfied: aiosignal>=1.1.2 in c:\\users\\abhis\\appdata\\local\\packages\\pythonsoftwarefoundation.python.3.9_qbz5n2kfra8p0\\localcache\\local-packages\\python39\\site-packages (from aiohttp<4,>=3.7.4.post0->web3) (1.2.0)\n",
      "Requirement already satisfied: attrs>=17.3.0 in c:\\users\\abhis\\appdata\\local\\packages\\pythonsoftwarefoundation.python.3.9_qbz5n2kfra8p0\\localcache\\local-packages\\python39\\site-packages (from aiohttp<4,>=3.7.4.post0->web3) (21.4.0)\n",
      "Requirement already satisfied: parsimonious<0.9.0,>=0.8.0 in c:\\users\\abhis\\appdata\\local\\packages\\pythonsoftwarefoundation.python.3.9_qbz5n2kfra8p0\\localcache\\local-packages\\python39\\site-packages (from eth-abi<3.0.0,>=2.0.0b6->web3) (0.8.1)\n",
      "Requirement already satisfied: eth-keys<0.4.0,>=0.3.4 in c:\\users\\abhis\\appdata\\local\\packages\\pythonsoftwarefoundation.python.3.9_qbz5n2kfra8p0\\localcache\\local-packages\\python39\\site-packages (from eth-account<0.6.0,>=0.5.7->web3) (0.3.4)\n",
      "Requirement already satisfied: eth-rlp<2,>=0.1.2 in c:\\users\\abhis\\appdata\\local\\packages\\pythonsoftwarefoundation.python.3.9_qbz5n2kfra8p0\\localcache\\local-packages\\python39\\site-packages (from eth-account<0.6.0,>=0.5.7->web3) (0.2.1)\n",
      "Requirement already satisfied: rlp<3,>=1.0.0 in c:\\users\\abhis\\appdata\\local\\packages\\pythonsoftwarefoundation.python.3.9_qbz5n2kfra8p0\\localcache\\local-packages\\python39\\site-packages (from eth-account<0.6.0,>=0.5.7->web3) (2.0.1)\n",
      "Requirement already satisfied: bitarray<1.3.0,>=1.2.1 in c:\\users\\abhis\\appdata\\local\\packages\\pythonsoftwarefoundation.python.3.9_qbz5n2kfra8p0\\localcache\\local-packages\\python39\\site-packages (from eth-account<0.6.0,>=0.5.7->web3) (1.2.2)\n",
      "Requirement already satisfied: eth-keyfile<0.6.0,>=0.5.0 in c:\\users\\abhis\\appdata\\local\\packages\\pythonsoftwarefoundation.python.3.9_qbz5n2kfra8p0\\localcache\\local-packages\\python39\\site-packages (from eth-account<0.6.0,>=0.5.7->web3) (0.5.1)\n",
      "Requirement already satisfied: pycryptodome<4,>=3.6.6 in c:\\users\\abhis\\appdata\\local\\packages\\pythonsoftwarefoundation.python.3.9_qbz5n2kfra8p0\\localcache\\local-packages\\python39\\site-packages (from eth-hash[pycryptodome]<1.0.0,>=0.2.0->web3) (3.14.1)\n",
      "Requirement already satisfied: cytoolz<1.0.0,>=0.10.1 in c:\\users\\abhis\\appdata\\local\\packages\\pythonsoftwarefoundation.python.3.9_qbz5n2kfra8p0\\localcache\\local-packages\\python39\\site-packages (from eth-utils<2.0.0,>=1.9.5->web3) (0.11.2)\n",
      "Requirement already satisfied: pyrsistent>=0.14.0 in c:\\users\\abhis\\appdata\\local\\packages\\pythonsoftwarefoundation.python.3.9_qbz5n2kfra8p0\\localcache\\local-packages\\python39\\site-packages (from jsonschema<4.0.0,>=3.2.0->web3) (0.18.1)\n",
      "Requirement already satisfied: six>=1.11.0 in c:\\users\\abhis\\appdata\\local\\packages\\pythonsoftwarefoundation.python.3.9_qbz5n2kfra8p0\\localcache\\local-packages\\python39\\site-packages (from jsonschema<4.0.0,>=3.2.0->web3) (1.16.0)\n",
      "Requirement already satisfied: setuptools in c:\\program files\\windowsapps\\pythonsoftwarefoundation.python.3.9_3.9.2800.0_x64__qbz5n2kfra8p0\\lib\\site-packages (from jsonschema<4.0.0,>=3.2.0->web3) (58.1.0)\n",
      "Requirement already satisfied: idna<4,>=2.5 in c:\\users\\abhis\\appdata\\local\\packages\\pythonsoftwarefoundation.python.3.9_qbz5n2kfra8p0\\localcache\\local-packages\\python39\\site-packages (from requests<3.0.0,>=2.16.0->web3) (3.3)\n",
      "Requirement already satisfied: certifi>=2017.4.17 in c:\\users\\abhis\\appdata\\local\\packages\\pythonsoftwarefoundation.python.3.9_qbz5n2kfra8p0\\localcache\\local-packages\\python39\\site-packages (from requests<3.0.0,>=2.16.0->web3) (2021.10.8)\n",
      "Requirement already satisfied: urllib3<1.27,>=1.21.1 in c:\\users\\abhis\\appdata\\local\\packages\\pythonsoftwarefoundation.python.3.9_qbz5n2kfra8p0\\localcache\\local-packages\\python39\\site-packages (from requests<3.0.0,>=2.16.0->web3) (1.26.8)\n",
      "Requirement already satisfied: toolz>=0.8.0 in c:\\users\\abhis\\appdata\\local\\packages\\pythonsoftwarefoundation.python.3.9_qbz5n2kfra8p0\\localcache\\local-packages\\python39\\site-packages (from cytoolz<1.0.0,>=0.10.1->eth-utils<2.0.0,>=1.9.5->web3) (0.11.2)\n",
      "Requirement already satisfied: varint in c:\\users\\abhis\\appdata\\local\\packages\\pythonsoftwarefoundation.python.3.9_qbz5n2kfra8p0\\localcache\\local-packages\\python39\\site-packages (from multiaddr>=0.0.7->ipfshttpclient==0.8.0a2->web3) (1.0.2)\n",
      "Requirement already satisfied: base58 in c:\\users\\abhis\\appdata\\local\\packages\\pythonsoftwarefoundation.python.3.9_qbz5n2kfra8p0\\localcache\\local-packages\\python39\\site-packages (from multiaddr>=0.0.7->ipfshttpclient==0.8.0a2->web3) (2.1.1)\n",
      "Requirement already satisfied: netaddr in c:\\users\\abhis\\appdata\\local\\packages\\pythonsoftwarefoundation.python.3.9_qbz5n2kfra8p0\\localcache\\local-packages\\python39\\site-packages (from multiaddr>=0.0.7->ipfshttpclient==0.8.0a2->web3) (0.8.0)\n"
     ]
    }
   ],
   "source": [
    "pip install web3"
   ]
  },
  {
   "cell_type": "code",
   "execution_count": 6,
   "metadata": {},
   "outputs": [],
   "source": [
    "from web3 import Web3, EthereumTesterProvider"
   ]
  },
  {
   "cell_type": "code",
   "execution_count": 7,
   "metadata": {},
   "outputs": [
    {
     "name": "stdout",
     "output_type": "stream",
     "text": [
      "Requirement already satisfied: pip in c:\\users\\abhis\\appdata\\local\\packages\\pythonsoftwarefoundation.python.3.9_qbz5n2kfra8p0\\localcache\\local-packages\\python39\\site-packages (22.0.4)\n",
      "Note: you may need to restart the kernel to use updated packages.\n"
     ]
    }
   ],
   "source": [
    "pip install --upgrade pip"
   ]
  },
  {
   "cell_type": "code",
   "execution_count": 8,
   "metadata": {},
   "outputs": [
    {
     "name": "stdout",
     "output_type": "stream",
     "text": [
      "Requirement already satisfied: matplotlib in c:\\users\\abhis\\appdata\\local\\packages\\pythonsoftwarefoundation.python.3.9_qbz5n2kfra8p0\\localcache\\local-packages\\python39\\site-packages (3.5.1)Note: you may need to restart the kernel to use updated packages.\n",
      "Requirement already satisfied: cycler>=0.10 in c:\\users\\abhis\\appdata\\local\\packages\\pythonsoftwarefoundation.python.3.9_qbz5n2kfra8p0\\localcache\\local-packages\\python39\\site-packages (from matplotlib) (0.11.0)\n",
      "Requirement already satisfied: pillow>=6.2.0 in c:\\users\\abhis\\appdata\\local\\packages\\pythonsoftwarefoundation.python.3.9_qbz5n2kfra8p0\\localcache\\local-packages\\python39\\site-packages (from matplotlib) (9.0.1)\n",
      "Requirement already satisfied: numpy>=1.17 in c:\\users\\abhis\\appdata\\local\\packages\\pythonsoftwarefoundation.python.3.9_qbz5n2kfra8p0\\localcache\\local-packages\\python39\\site-packages (from matplotlib) (1.22.3)\n",
      "Requirement already satisfied: kiwisolver>=1.0.1 in c:\\users\\abhis\\appdata\\local\\packages\\pythonsoftwarefoundation.python.3.9_qbz5n2kfra8p0\\localcache\\local-packages\\python39\\site-packages (from matplotlib) (1.3.2)\n",
      "Requirement already satisfied: fonttools>=4.22.0 in c:\\users\\abhis\\appdata\\local\\packages\\pythonsoftwarefoundation.python.3.9_qbz5n2kfra8p0\\localcache\\local-packages\\python39\\site-packages (from matplotlib) (4.30.0)\n",
      "Requirement already satisfied: pyparsing>=2.2.1 in c:\\users\\abhis\\appdata\\local\\packages\\pythonsoftwarefoundation.python.3.9_qbz5n2kfra8p0\\localcache\\local-packages\\python39\\site-packages (from matplotlib) (3.0.7)\n",
      "Requirement already satisfied: python-dateutil>=2.7 in c:\\users\\abhis\\appdata\\local\\packages\\pythonsoftwarefoundation.python.3.9_qbz5n2kfra8p0\\localcache\\local-packages\\python39\\site-packages (from matplotlib) (2.8.2)\n",
      "Requirement already satisfied: packaging>=20.0 in c:\\users\\abhis\\appdata\\local\\packages\\pythonsoftwarefoundation.python.3.9_qbz5n2kfra8p0\\localcache\\local-packages\\python39\\site-packages (from matplotlib) (21.3)\n",
      "Requirement already satisfied: six>=1.5 in c:\\users\\abhis\\appdata\\local\\packages\\pythonsoftwarefoundation.python.3.9_qbz5n2kfra8p0\\localcache\\local-packages\\python39\\site-packages (from python-dateutil>=2.7->matplotlib) (1.16.0)\n",
      "\n"
     ]
    }
   ],
   "source": [
    "pip install matplotlib"
   ]
  },
  {
   "cell_type": "code",
   "execution_count": 9,
   "metadata": {},
   "outputs": [
    {
     "name": "stdout",
     "output_type": "stream",
     "text": [
      "Requirement already satisfied: pandas in c:\\users\\abhis\\appdata\\local\\packages\\pythonsoftwarefoundation.python.3.9_qbz5n2kfra8p0\\localcache\\local-packages\\python39\\site-packages (1.4.1)\n",
      "Requirement already satisfied: python-dateutil>=2.8.1 in c:\\users\\abhis\\appdata\\local\\packages\\pythonsoftwarefoundation.python.3.9_qbz5n2kfra8p0\\localcache\\local-packages\\python39\\site-packages (from pandas) (2.8.2)\n",
      "Requirement already satisfied: pytz>=2020.1 in c:\\users\\abhis\\appdata\\local\\packages\\pythonsoftwarefoundation.python.3.9_qbz5n2kfra8p0\\localcache\\local-packages\\python39\\site-packages (from pandas) (2021.3)\n",
      "Requirement already satisfied: numpy>=1.18.5 in c:\\users\\abhis\\appdata\\local\\packages\\pythonsoftwarefoundation.python.3.9_qbz5n2kfra8p0\\localcache\\local-packages\\python39\\site-packages (from pandas) (1.22.3)\n",
      "Requirement already satisfied: six>=1.5 in c:\\users\\abhis\\appdata\\local\\packages\\pythonsoftwarefoundation.python.3.9_qbz5n2kfra8p0\\localcache\\local-packages\\python39\\site-packages (from python-dateutil>=2.8.1->pandas) (1.16.0)\n",
      "Note: you may need to restart the kernel to use updated packages.\n"
     ]
    }
   ],
   "source": [
    "pip install pandas"
   ]
  },
  {
   "cell_type": "code",
   "execution_count": 10,
   "metadata": {},
   "outputs": [
    {
     "name": "stdout",
     "output_type": "stream",
     "text": [
      "Requirement already satisfied: seaborn in c:\\users\\abhis\\appdata\\local\\packages\\pythonsoftwarefoundation.python.3.9_qbz5n2kfra8p0\\localcache\\local-packages\\python39\\site-packages (0.11.2)Note: you may need to restart the kernel to use updated packages.\n",
      "Requirement already satisfied: numpy>=1.15 in c:\\users\\abhis\\appdata\\local\\packages\\pythonsoftwarefoundation.python.3.9_qbz5n2kfra8p0\\localcache\\local-packages\\python39\\site-packages (from seaborn) (1.22.3)\n",
      "Requirement already satisfied: matplotlib>=2.2 in c:\\users\\abhis\\appdata\\local\\packages\\pythonsoftwarefoundation.python.3.9_qbz5n2kfra8p0\\localcache\\local-packages\\python39\\site-packages (from seaborn) (3.5.1)\n",
      "\n",
      "Requirement already satisfied: scipy>=1.0 in c:\\users\\abhis\\appdata\\local\\packages\\pythonsoftwarefoundation.python.3.9_qbz5n2kfra8p0\\localcache\\local-packages\\python39\\site-packages (from seaborn) (1.8.0)\n",
      "Requirement already satisfied: pandas>=0.23 in c:\\users\\abhis\\appdata\\local\\packages\\pythonsoftwarefoundation.python.3.9_qbz5n2kfra8p0\\localcache\\local-packages\\python39\\site-packages (from seaborn) (1.4.1)\n",
      "Requirement already satisfied: fonttools>=4.22.0 in c:\\users\\abhis\\appdata\\local\\packages\\pythonsoftwarefoundation.python.3.9_qbz5n2kfra8p0\\localcache\\local-packages\\python39\\site-packages (from matplotlib>=2.2->seaborn) (4.30.0)\n",
      "Requirement already satisfied: cycler>=0.10 in c:\\users\\abhis\\appdata\\local\\packages\\pythonsoftwarefoundation.python.3.9_qbz5n2kfra8p0\\localcache\\local-packages\\python39\\site-packages (from matplotlib>=2.2->seaborn) (0.11.0)\n",
      "Requirement already satisfied: pillow>=6.2.0 in c:\\users\\abhis\\appdata\\local\\packages\\pythonsoftwarefoundation.python.3.9_qbz5n2kfra8p0\\localcache\\local-packages\\python39\\site-packages (from matplotlib>=2.2->seaborn) (9.0.1)\n",
      "Requirement already satisfied: pyparsing>=2.2.1 in c:\\users\\abhis\\appdata\\local\\packages\\pythonsoftwarefoundation.python.3.9_qbz5n2kfra8p0\\localcache\\local-packages\\python39\\site-packages (from matplotlib>=2.2->seaborn) (3.0.7)\n",
      "Requirement already satisfied: kiwisolver>=1.0.1 in c:\\users\\abhis\\appdata\\local\\packages\\pythonsoftwarefoundation.python.3.9_qbz5n2kfra8p0\\localcache\\local-packages\\python39\\site-packages (from matplotlib>=2.2->seaborn) (1.3.2)\n",
      "Requirement already satisfied: python-dateutil>=2.7 in c:\\users\\abhis\\appdata\\local\\packages\\pythonsoftwarefoundation.python.3.9_qbz5n2kfra8p0\\localcache\\local-packages\\python39\\site-packages (from matplotlib>=2.2->seaborn) (2.8.2)\n",
      "Requirement already satisfied: packaging>=20.0 in c:\\users\\abhis\\appdata\\local\\packages\\pythonsoftwarefoundation.python.3.9_qbz5n2kfra8p0\\localcache\\local-packages\\python39\\site-packages (from matplotlib>=2.2->seaborn) (21.3)\n",
      "Requirement already satisfied: pytz>=2020.1 in c:\\users\\abhis\\appdata\\local\\packages\\pythonsoftwarefoundation.python.3.9_qbz5n2kfra8p0\\localcache\\local-packages\\python39\\site-packages (from pandas>=0.23->seaborn) (2021.3)\n",
      "Requirement already satisfied: six>=1.5 in c:\\users\\abhis\\appdata\\local\\packages\\pythonsoftwarefoundation.python.3.9_qbz5n2kfra8p0\\localcache\\local-packages\\python39\\site-packages (from python-dateutil>=2.7->matplotlib>=2.2->seaborn) (1.16.0)\n"
     ]
    }
   ],
   "source": [
    "pip install seaborn"
   ]
  },
  {
   "cell_type": "code",
   "execution_count": 11,
   "metadata": {},
   "outputs": [],
   "source": [
    "#importing the needed libraries\n",
    "import datetime, calendar\n",
    "from decimal import Decimal\n",
    "import matplotlib.pyplot as plt\n",
    "import pandas as pd\n",
    "import numpy as np\n",
    "import seaborn as sns"
   ]
  },
  {
   "cell_type": "markdown",
   "metadata": {},
   "source": [
    "Exportation of data"
   ]
  },
  {
   "cell_type": "code",
   "execution_count": 12,
   "metadata": {},
   "outputs": [
    {
     "data": {
      "text/html": [
       "<div>\n",
       "<style scoped>\n",
       "    .dataframe tbody tr th:only-of-type {\n",
       "        vertical-align: middle;\n",
       "    }\n",
       "\n",
       "    .dataframe tbody tr th {\n",
       "        vertical-align: top;\n",
       "    }\n",
       "\n",
       "    .dataframe thead th {\n",
       "        text-align: right;\n",
       "    }\n",
       "</style>\n",
       "<table border=\"1\" class=\"dataframe\">\n",
       "  <thead>\n",
       "    <tr style=\"text-align: right;\">\n",
       "      <th></th>\n",
       "      <th>address</th>\n",
       "      <th>eth_balance</th>\n",
       "    </tr>\n",
       "  </thead>\n",
       "  <tbody>\n",
       "    <tr>\n",
       "      <th>0</th>\n",
       "      <td>0x00000000219ab540356cbb839cbe05303d7705fa</td>\n",
       "      <td>1.002810e+25</td>\n",
       "    </tr>\n",
       "    <tr>\n",
       "      <th>1</th>\n",
       "      <td>0xc02aaa39b223fe8d0a0e5c4f27ead9083c756cc2</td>\n",
       "      <td>7.101470e+24</td>\n",
       "    </tr>\n",
       "    <tr>\n",
       "      <th>2</th>\n",
       "      <td>0xda9dfa130df4de4673b89022ee50ff26f6ea73cf</td>\n",
       "      <td>2.113030e+24</td>\n",
       "    </tr>\n",
       "    <tr>\n",
       "      <th>3</th>\n",
       "      <td>0xbe0eb53f46cd790cd13851d5eff43d12404d33e8</td>\n",
       "      <td>1.996010e+24</td>\n",
       "    </tr>\n",
       "    <tr>\n",
       "      <th>4</th>\n",
       "      <td>0x73bceb1cd57c711feac4224d062b0f6ff338501e</td>\n",
       "      <td>1.993500e+24</td>\n",
       "    </tr>\n",
       "    <tr>\n",
       "      <th>...</th>\n",
       "      <td>...</td>\n",
       "      <td>...</td>\n",
       "    </tr>\n",
       "    <tr>\n",
       "      <th>15995</th>\n",
       "      <td>0x5cdb405484b37006ef66fb339c89f1e789e5dfb0</td>\n",
       "      <td>3.285840e+20</td>\n",
       "    </tr>\n",
       "    <tr>\n",
       "      <th>15996</th>\n",
       "      <td>0x0eeeb243e1122a8f39ab3f96fde43d36bf4f9a14</td>\n",
       "      <td>3.284810e+20</td>\n",
       "    </tr>\n",
       "    <tr>\n",
       "      <th>15997</th>\n",
       "      <td>0x86c06f627e9282fc75196c6aff900bedbcd1e4e4</td>\n",
       "      <td>3.284680e+20</td>\n",
       "    </tr>\n",
       "    <tr>\n",
       "      <th>15998</th>\n",
       "      <td>0xdb0e89a9b003a28a4055ef772e345e8089987bfd</td>\n",
       "      <td>3.284550e+20</td>\n",
       "    </tr>\n",
       "    <tr>\n",
       "      <th>15999</th>\n",
       "      <td>0x98cca56e1f219b2091105aed2b9345e028544d5d</td>\n",
       "      <td>3.284010e+20</td>\n",
       "    </tr>\n",
       "  </tbody>\n",
       "</table>\n",
       "<p>16000 rows × 2 columns</p>\n",
       "</div>"
      ],
      "text/plain": [
       "                                          address   eth_balance\n",
       "0      0x00000000219ab540356cbb839cbe05303d7705fa  1.002810e+25\n",
       "1      0xc02aaa39b223fe8d0a0e5c4f27ead9083c756cc2  7.101470e+24\n",
       "2      0xda9dfa130df4de4673b89022ee50ff26f6ea73cf  2.113030e+24\n",
       "3      0xbe0eb53f46cd790cd13851d5eff43d12404d33e8  1.996010e+24\n",
       "4      0x73bceb1cd57c711feac4224d062b0f6ff338501e  1.993500e+24\n",
       "...                                           ...           ...\n",
       "15995  0x5cdb405484b37006ef66fb339c89f1e789e5dfb0  3.285840e+20\n",
       "15996  0x0eeeb243e1122a8f39ab3f96fde43d36bf4f9a14  3.284810e+20\n",
       "15997  0x86c06f627e9282fc75196c6aff900bedbcd1e4e4  3.284680e+20\n",
       "15998  0xdb0e89a9b003a28a4055ef772e345e8089987bfd  3.284550e+20\n",
       "15999  0x98cca56e1f219b2091105aed2b9345e028544d5d  3.284010e+20\n",
       "\n",
       "[16000 rows x 2 columns]"
      ]
     },
     "execution_count": 12,
     "metadata": {},
     "output_type": "execute_result"
    }
   ],
   "source": [
    "df = pd.read_csv('sixteen-k-rows.csv')\n",
    "df"
   ]
  },
  {
   "cell_type": "markdown",
   "metadata": {},
   "source": [
    "To perform inital exploration of the transactions dataframe created, we dig deep using describe to gain more knowledge"
   ]
  },
  {
   "cell_type": "code",
   "execution_count": 13,
   "metadata": {},
   "outputs": [
    {
     "data": {
      "text/html": [
       "<div>\n",
       "<style scoped>\n",
       "    .dataframe tbody tr th:only-of-type {\n",
       "        vertical-align: middle;\n",
       "    }\n",
       "\n",
       "    .dataframe tbody tr th {\n",
       "        vertical-align: top;\n",
       "    }\n",
       "\n",
       "    .dataframe thead th {\n",
       "        text-align: right;\n",
       "    }\n",
       "</style>\n",
       "<table border=\"1\" class=\"dataframe\">\n",
       "  <thead>\n",
       "    <tr style=\"text-align: right;\">\n",
       "      <th></th>\n",
       "      <th>eth_balance</th>\n",
       "    </tr>\n",
       "  </thead>\n",
       "  <tbody>\n",
       "    <tr>\n",
       "      <th>count</th>\n",
       "      <td>1.600000e+04</td>\n",
       "    </tr>\n",
       "    <tr>\n",
       "      <th>mean</th>\n",
       "      <td>6.298282e+21</td>\n",
       "    </tr>\n",
       "    <tr>\n",
       "      <th>std</th>\n",
       "      <td>1.045540e+23</td>\n",
       "    </tr>\n",
       "    <tr>\n",
       "      <th>min</th>\n",
       "      <td>3.284010e+20</td>\n",
       "    </tr>\n",
       "    <tr>\n",
       "      <th>25%</th>\n",
       "      <td>4.840143e+20</td>\n",
       "    </tr>\n",
       "    <tr>\n",
       "      <th>50%</th>\n",
       "      <td>8.000000e+20</td>\n",
       "    </tr>\n",
       "    <tr>\n",
       "      <th>75%</th>\n",
       "      <td>1.899113e+21</td>\n",
       "    </tr>\n",
       "    <tr>\n",
       "      <th>max</th>\n",
       "      <td>1.002810e+25</td>\n",
       "    </tr>\n",
       "  </tbody>\n",
       "</table>\n",
       "</div>"
      ],
      "text/plain": [
       "        eth_balance\n",
       "count  1.600000e+04\n",
       "mean   6.298282e+21\n",
       "std    1.045540e+23\n",
       "min    3.284010e+20\n",
       "25%    4.840143e+20\n",
       "50%    8.000000e+20\n",
       "75%    1.899113e+21\n",
       "max    1.002810e+25"
      ]
     },
     "execution_count": 13,
     "metadata": {},
     "output_type": "execute_result"
    }
   ],
   "source": [
    "df.describe()"
   ]
  },
  {
   "cell_type": "markdown",
   "metadata": {},
   "source": [
    "Feature selection"
   ]
  },
  {
   "cell_type": "code",
   "execution_count": 24,
   "metadata": {},
   "outputs": [
    {
     "name": "stdout",
     "output_type": "stream",
     "text": [
      "Wallet containing the lowest balance 3.28401e+20 wei\n"
     ]
    }
   ],
   "source": [
    "#to perform a comparsion with the highest ether values that are present in the transaction wallet\n",
    "# we need to know the lowest ether balance that is prsent in a wallet.\n",
    "low_bal_wallet = df.iloc[-1]\n",
    "#lowest balance\n",
    "lowestbalance = low_bal_wallet.eth_balance\n",
    "#ether balances are measured in wei\n",
    "print(f\"Wallet containing the lowest balance {lowestbalance} wei\")\n",
    "#print(f\" {type(lowestbalance)=}\")"
   ]
  },
  {
   "cell_type": "code",
   "execution_count": 26,
   "metadata": {},
   "outputs": [],
   "source": [
    "def weiNumpy_to_weiInt(wei_numpy):\n",
    "    wei_int = int(wei_numpy)\n",
    "    return wei_int"
   ]
  },
  {
   "cell_type": "code",
   "execution_count": 27,
   "metadata": {},
   "outputs": [
    {
     "data": {
      "text/html": [
       "<div>\n",
       "<style scoped>\n",
       "    .dataframe tbody tr th:only-of-type {\n",
       "        vertical-align: middle;\n",
       "    }\n",
       "\n",
       "    .dataframe tbody tr th {\n",
       "        vertical-align: top;\n",
       "    }\n",
       "\n",
       "    .dataframe thead th {\n",
       "        text-align: right;\n",
       "    }\n",
       "</style>\n",
       "<table border=\"1\" class=\"dataframe\">\n",
       "  <thead>\n",
       "    <tr style=\"text-align: right;\">\n",
       "      <th></th>\n",
       "      <th>address</th>\n",
       "      <th>eth_balance</th>\n",
       "      <th>wei_int</th>\n",
       "      <th>ether</th>\n",
       "    </tr>\n",
       "  </thead>\n",
       "  <tbody>\n",
       "    <tr>\n",
       "      <th>0</th>\n",
       "      <td>0x00000000219ab540356cbb839cbe05303d7705fa</td>\n",
       "      <td>1.002810e+25</td>\n",
       "      <td>10028099999999999889899520</td>\n",
       "      <td>10028099.99999999988989952</td>\n",
       "    </tr>\n",
       "    <tr>\n",
       "      <th>1</th>\n",
       "      <td>0xc02aaa39b223fe8d0a0e5c4f27ead9083c756cc2</td>\n",
       "      <td>7.101470e+24</td>\n",
       "      <td>7101469999999999769837568</td>\n",
       "      <td>7101469.999999999769837568</td>\n",
       "    </tr>\n",
       "    <tr>\n",
       "      <th>2</th>\n",
       "      <td>0xda9dfa130df4de4673b89022ee50ff26f6ea73cf</td>\n",
       "      <td>2.113030e+24</td>\n",
       "      <td>2113029999999999927123968</td>\n",
       "      <td>2113029.999999999927123968</td>\n",
       "    </tr>\n",
       "    <tr>\n",
       "      <th>3</th>\n",
       "      <td>0xbe0eb53f46cd790cd13851d5eff43d12404d33e8</td>\n",
       "      <td>1.996010e+24</td>\n",
       "      <td>1996009999999999976407040</td>\n",
       "      <td>1996009.99999999997640704</td>\n",
       "    </tr>\n",
       "    <tr>\n",
       "      <th>4</th>\n",
       "      <td>0x73bceb1cd57c711feac4224d062b0f6ff338501e</td>\n",
       "      <td>1.993500e+24</td>\n",
       "      <td>1993500000000000084934656</td>\n",
       "      <td>1993500.000000000084934656</td>\n",
       "    </tr>\n",
       "  </tbody>\n",
       "</table>\n",
       "</div>"
      ],
      "text/plain": [
       "                                      address   eth_balance  \\\n",
       "0  0x00000000219ab540356cbb839cbe05303d7705fa  1.002810e+25   \n",
       "1  0xc02aaa39b223fe8d0a0e5c4f27ead9083c756cc2  7.101470e+24   \n",
       "2  0xda9dfa130df4de4673b89022ee50ff26f6ea73cf  2.113030e+24   \n",
       "3  0xbe0eb53f46cd790cd13851d5eff43d12404d33e8  1.996010e+24   \n",
       "4  0x73bceb1cd57c711feac4224d062b0f6ff338501e  1.993500e+24   \n",
       "\n",
       "                      wei_int                       ether  \n",
       "0  10028099999999999889899520  10028099.99999999988989952  \n",
       "1   7101469999999999769837568  7101469.999999999769837568  \n",
       "2   2113029999999999927123968  2113029.999999999927123968  \n",
       "3   1996009999999999976407040   1996009.99999999997640704  \n",
       "4   1993500000000000084934656  1993500.000000000084934656  "
      ]
     },
     "execution_count": 27,
     "metadata": {},
     "output_type": "execute_result"
    }
   ],
   "source": [
    "df[\"wei_int\"] = df.eth_balance.apply(weiNumpy_to_weiInt)\n",
    "df.head()"
   ]
  },
  {
   "cell_type": "code",
   "execution_count": 28,
   "metadata": {},
   "outputs": [
    {
     "data": {
      "text/plain": [
       "count                      16000\n",
       "unique                     13805\n",
       "top       1000000000000000000000\n",
       "freq                         215\n",
       "Name: wei_int, dtype: object"
      ]
     },
     "execution_count": 28,
     "metadata": {},
     "output_type": "execute_result"
    }
   ],
   "source": [
    "df.wei_int.describe()"
   ]
  },
  {
   "cell_type": "code",
   "execution_count": 31,
   "metadata": {},
   "outputs": [
    {
     "name": "stdout",
     "output_type": "stream",
     "text": [
      "max_ether_bal=Decimal('10028099.99999999988989952')\n"
     ]
    }
   ],
   "source": [
    "# Calculating ether of the top balance ether wallet\n",
    "high_bal_wallet = df.wei_int.iloc[0]\n",
    "max_ether_bal = Web3.fromWei(high_bal_wallet, 'ether')\n",
    "print(f\"{max_ether_bal=}\")\n",
    "#ether balance is now present in decimal \n",
    "#print(f\"{type(max_ether_balance)=}\")"
   ]
  },
  {
   "cell_type": "markdown",
   "metadata": {},
   "source": [
    "Data Transformation"
   ]
  },
  {
   "cell_type": "code",
   "execution_count": 20,
   "metadata": {},
   "outputs": [],
   "source": [
    "wei_int_to_eth_dec = lambda wei_int : Web3.fromWei(wei_int, 'ether')\n",
    "#creating the ether column\n",
    "df['ether'] = df.wei_int.apply(wei_int_to_eth_dec)"
   ]
  },
  {
   "cell_type": "code",
   "execution_count": 44,
   "metadata": {},
   "outputs": [
    {
     "name": "stderr",
     "output_type": "stream",
     "text": [
      "C:\\Users\\abhis\\AppData\\Local\\Packages\\PythonSoftwareFoundation.Python.3.9_qbz5n2kfra8p0\\LocalCache\\local-packages\\Python39\\site-packages\\seaborn\\distributions.py:2619: FutureWarning: `distplot` is a deprecated function and will be removed in a future version. Please adapt your code to use either `displot` (a figure-level function with similar flexibility) or `histplot` (an axes-level function for histograms).\n",
      "  warnings.warn(msg, FutureWarning)\n"
     ]
    },
    {
     "data": {
      "text/plain": [
       "<AxesSubplot:title={'center':'Distribution plot of the Top 16,000 Ethereum wallets (bins=50)'}, xlabel='ether', ylabel='Relative percentage'>"
      ]
     },
     "execution_count": 44,
     "metadata": {},
     "output_type": "execute_result"
    },
    {
     "data": {
      "image/png": "[encoded data removed]",
      "text/plain": [
       "<Figure size 1080x360 with 1 Axes>"
      ]
     },
     "metadata": {
      "needs_background": "light"
     },
     "output_type": "display_data"
    }
   ],
   "source": [
    "# Using seaborn to visualize the top and bottom most wallet comparision\n",
    "bins=50\n",
    "x,a = plt.subplots(figsize=(15,5))\n",
    "a.set_title(f'Distribution plot of the Top 16,000 Ethereum wallets ({bins=})')\n",
    "a.set_ylabel('Relative percentage')\n",
    "a.set_xlabel('Amount of ether in the wallet')\n",
    "sns.distplot(df.ether, ax=a, bins=bins)"
   ]
  },
  {
   "cell_type": "code",
   "execution_count": 45,
   "metadata": {},
   "outputs": [
    {
     "name": "stderr",
     "output_type": "stream",
     "text": [
      "C:\\Users\\abhis\\AppData\\Local\\Packages\\PythonSoftwareFoundation.Python.3.9_qbz5n2kfra8p0\\LocalCache\\local-packages\\Python39\\site-packages\\seaborn\\distributions.py:2619: FutureWarning: `distplot` is a deprecated function and will be removed in a future version. Please adapt your code to use either `displot` (a figure-level function with similar flexibility) or `histplot` (an axes-level function for histograms).\n",
      "  warnings.warn(msg, FutureWarning)\n"
     ]
    },
    {
     "data": {
      "text/plain": [
       "<AxesSubplot:title={'center':'Distribution plot of the Top 16.000 Ethereum wallets (bins=15)'}, xlabel='ether', ylabel='Relative percentage'>"
      ]
     },
     "execution_count": 45,
     "metadata": {},
     "output_type": "execute_result"
    },
    {
     "data": {
      "image/png": "[encoded data removed]",
      "text/plain": [
       "<Figure size 1080x432 with 1 Axes>"
      ]
     },
     "metadata": {
      "needs_background": "light"
     },
     "output_type": "display_data"
    }
   ],
   "source": [
    "#Above graph is unclear due to which changing the bin size\n",
    "bins = 15\n",
    "x,a = plt.subplots(figsize=(15,6))\n",
    "a.set_title(f'Distribution plot of the Top 16.000 Ethereum wallets ({bins=})')\n",
    "a.set_ylabel('Relative percentage')\n",
    "a.set_xlabel('Amount of ether in the wallet')\n",
    "sns.distplot(df.ether, ax=a, bins=bins)"
   ]
  },
  {
   "cell_type": "code",
   "execution_count": 46,
   "metadata": {},
   "outputs": [
    {
     "data": {
      "text/plain": [
       "<AxesSubplot:title={'center':'Top No: 16000 to top No: 1000 - Ethereum Wallets) (bins=50)'}, xlabel='ether', ylabel='Relative-Percentage'>"
      ]
     },
     "execution_count": 46,
     "metadata": {},
     "output_type": "execute_result"
    },
    {
     "data": {
      "image/png": "[encoded data removed]",
      "text/plain": [
       "<Figure size 1080x576 with 1 Axes>"
      ]
     },
     "metadata": {
      "needs_background": "light"
     },
     "output_type": "display_data"
    }
   ],
   "source": [
    "bins = 50\n",
    "f,a = plt.subplots(figsize=(15,8))\n",
    "a.set_title(f'Top No: 16000 to top No: 1000 - Ethereum Wallets) ({bins=})')\n",
    "a.set_ylabel('Relative-Percentage')\n",
    "a.set_xlabel('ether')\n",
    "sns.histplot(df.ether.iloc[-15000:], ax=a, bins=bins)"
   ]
  },
  {
   "cell_type": "markdown",
   "metadata": {},
   "source": [
    "It is understood that there are less than 200 wallets with more than 10000 ether "
   ]
  },
  {
   "cell_type": "markdown",
   "metadata": {},
   "source": [
    "The analysis only provides for the 16K eth-transactions that took place.\n",
    "To comprehend the computing power of big query.\n",
    "A single query can be tuned to provide the same results but to the whole Web3 ETH chain, in this case which was about 11.9 GB"
   ]
  }
 ],
 "metadata": {
  "interpreter": {
   "hash": "5e02132598556c797d3bc8abbd6e62d3acba388094e221a9dfd016b1bfb0997d"
  },
  "kernelspec": {
   "display_name": "Python 3.9.10 64-bit (windows store)",
   "language": "python",
   "name": "python3"
  },
  "language_info": {
   "codemirror_mode": {
    "name": "ipython",
    "version": 3
   },
   "file_extension": ".py",
   "mimetype": "text/x-python",
   "name": "python",
   "nbconvert_exporter": "python",
   "pygments_lexer": "ipython3",
   "version": "3.9.10"
  },
  "orig_nbformat": 4
 },
 "nbformat": 4,
 "nbformat_minor": 2
}
