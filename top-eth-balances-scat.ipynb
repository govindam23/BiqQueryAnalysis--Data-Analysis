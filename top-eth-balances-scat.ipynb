{
 "cells": [
  {
   "cell_type": "code",
   "execution_count": 1,
   "metadata": {},
   "outputs": [],
   "source": [
    "#importing the needed libraries\n",
    "import datetime, calendar\n",
    "from decimal import Decimal\n",
    "import matplotlib.pyplot as plt\n",
    "import pandas as pd\n",
    "import numpy as np\n",
    "import seaborn as sns"
   ]
  },
  {
   "cell_type": "code",
   "execution_count": 22,
   "metadata": {},
   "outputs": [
    {
     "data": {
      "text/html": [
       "<div>\n",
       "<style scoped>\n",
       "    .dataframe tbody tr th:only-of-type {\n",
       "        vertical-align: middle;\n",
       "    }\n",
       "\n",
       "    .dataframe tbody tr th {\n",
       "        vertical-align: top;\n",
       "    }\n",
       "\n",
       "    .dataframe thead th {\n",
       "        text-align: right;\n",
       "    }\n",
       "</style>\n",
       "<table border=\"1\" class=\"dataframe\">\n",
       "  <thead>\n",
       "    <tr style=\"text-align: right;\">\n",
       "      <th></th>\n",
       "      <th>address</th>\n",
       "      <th>eth_balance</th>\n",
       "      <th>wei_int</th>\n",
       "      <th>ether</th>\n",
       "    </tr>\n",
       "  </thead>\n",
       "  <tbody>\n",
       "    <tr>\n",
       "      <th>0</th>\n",
       "      <td>0x00000000219ab540356cbb839cbe05303d7705fa</td>\n",
       "      <td>1.002810e+25</td>\n",
       "      <td>10028099999999999889899520</td>\n",
       "      <td>10028099.99999999988989952</td>\n",
       "    </tr>\n",
       "    <tr>\n",
       "      <th>1</th>\n",
       "      <td>0xc02aaa39b223fe8d0a0e5c4f27ead9083c756cc2</td>\n",
       "      <td>7.101470e+24</td>\n",
       "      <td>7101469999999999769837568</td>\n",
       "      <td>7101469.999999999769837568</td>\n",
       "    </tr>\n",
       "    <tr>\n",
       "      <th>2</th>\n",
       "      <td>0xda9dfa130df4de4673b89022ee50ff26f6ea73cf</td>\n",
       "      <td>2.113030e+24</td>\n",
       "      <td>2113029999999999927123968</td>\n",
       "      <td>2113029.999999999927123968</td>\n",
       "    </tr>\n",
       "    <tr>\n",
       "      <th>3</th>\n",
       "      <td>0xbe0eb53f46cd790cd13851d5eff43d12404d33e8</td>\n",
       "      <td>1.996010e+24</td>\n",
       "      <td>1996009999999999976407040</td>\n",
       "      <td>1996009.99999999997640704</td>\n",
       "    </tr>\n",
       "    <tr>\n",
       "      <th>4</th>\n",
       "      <td>0x73bceb1cd57c711feac4224d062b0f6ff338501e</td>\n",
       "      <td>1.993500e+24</td>\n",
       "      <td>1993500000000000084934656</td>\n",
       "      <td>1993500.000000000084934656</td>\n",
       "    </tr>\n",
       "    <tr>\n",
       "      <th>...</th>\n",
       "      <td>...</td>\n",
       "      <td>...</td>\n",
       "      <td>...</td>\n",
       "      <td>...</td>\n",
       "    </tr>\n",
       "    <tr>\n",
       "      <th>15995</th>\n",
       "      <td>0x5cdb405484b37006ef66fb339c89f1e789e5dfb0</td>\n",
       "      <td>3.285840e+20</td>\n",
       "      <td>328584000000000000000</td>\n",
       "      <td>328.584</td>\n",
       "    </tr>\n",
       "    <tr>\n",
       "      <th>15996</th>\n",
       "      <td>0x0eeeb243e1122a8f39ab3f96fde43d36bf4f9a14</td>\n",
       "      <td>3.284810e+20</td>\n",
       "      <td>328480999999999967232</td>\n",
       "      <td>328.480999999999967232</td>\n",
       "    </tr>\n",
       "    <tr>\n",
       "      <th>15997</th>\n",
       "      <td>0x86c06f627e9282fc75196c6aff900bedbcd1e4e4</td>\n",
       "      <td>3.284680e+20</td>\n",
       "      <td>328468000000000000000</td>\n",
       "      <td>328.468</td>\n",
       "    </tr>\n",
       "    <tr>\n",
       "      <th>15998</th>\n",
       "      <td>0xdb0e89a9b003a28a4055ef772e345e8089987bfd</td>\n",
       "      <td>3.284550e+20</td>\n",
       "      <td>328455000000000032768</td>\n",
       "      <td>328.455000000000032768</td>\n",
       "    </tr>\n",
       "    <tr>\n",
       "      <th>15999</th>\n",
       "      <td>0x98cca56e1f219b2091105aed2b9345e028544d5d</td>\n",
       "      <td>3.284010e+20</td>\n",
       "      <td>328400999999999967232</td>\n",
       "      <td>328.400999999999967232</td>\n",
       "    </tr>\n",
       "  </tbody>\n",
       "</table>\n",
       "<p>16000 rows × 4 columns</p>\n",
       "</div>"
      ],
      "text/plain": [
       "                                          address   eth_balance  \\\n",
       "0      0x00000000219ab540356cbb839cbe05303d7705fa  1.002810e+25   \n",
       "1      0xc02aaa39b223fe8d0a0e5c4f27ead9083c756cc2  7.101470e+24   \n",
       "2      0xda9dfa130df4de4673b89022ee50ff26f6ea73cf  2.113030e+24   \n",
       "3      0xbe0eb53f46cd790cd13851d5eff43d12404d33e8  1.996010e+24   \n",
       "4      0x73bceb1cd57c711feac4224d062b0f6ff338501e  1.993500e+24   \n",
       "...                                           ...           ...   \n",
       "15995  0x5cdb405484b37006ef66fb339c89f1e789e5dfb0  3.285840e+20   \n",
       "15996  0x0eeeb243e1122a8f39ab3f96fde43d36bf4f9a14  3.284810e+20   \n",
       "15997  0x86c06f627e9282fc75196c6aff900bedbcd1e4e4  3.284680e+20   \n",
       "15998  0xdb0e89a9b003a28a4055ef772e345e8089987bfd  3.284550e+20   \n",
       "15999  0x98cca56e1f219b2091105aed2b9345e028544d5d  3.284010e+20   \n",
       "\n",
       "                          wei_int                       ether  \n",
       "0      10028099999999999889899520  10028099.99999999988989952  \n",
       "1       7101469999999999769837568  7101469.999999999769837568  \n",
       "2       2113029999999999927123968  2113029.999999999927123968  \n",
       "3       1996009999999999976407040   1996009.99999999997640704  \n",
       "4       1993500000000000084934656  1993500.000000000084934656  \n",
       "...                           ...                         ...  \n",
       "15995       328584000000000000000                     328.584  \n",
       "15996       328480999999999967232      328.480999999999967232  \n",
       "15997       328468000000000000000                     328.468  \n",
       "15998       328455000000000032768      328.455000000000032768  \n",
       "15999       328400999999999967232      328.400999999999967232  \n",
       "\n",
       "[16000 rows x 4 columns]"
      ]
     },
     "execution_count": 22,
     "metadata": {},
     "output_type": "execute_result"
    }
   ],
   "source": [
    "df"
   ]
  },
  {
   "cell_type": "code",
   "execution_count": 3,
   "metadata": {},
   "outputs": [
    {
     "data": {
      "text/html": [
       "<div>\n",
       "<style scoped>\n",
       "    .dataframe tbody tr th:only-of-type {\n",
       "        vertical-align: middle;\n",
       "    }\n",
       "\n",
       "    .dataframe tbody tr th {\n",
       "        vertical-align: top;\n",
       "    }\n",
       "\n",
       "    .dataframe thead th {\n",
       "        text-align: right;\n",
       "    }\n",
       "</style>\n",
       "<table border=\"1\" class=\"dataframe\">\n",
       "  <thead>\n",
       "    <tr style=\"text-align: right;\">\n",
       "      <th></th>\n",
       "      <th>eth_balance</th>\n",
       "    </tr>\n",
       "  </thead>\n",
       "  <tbody>\n",
       "    <tr>\n",
       "      <th>count</th>\n",
       "      <td>1.600000e+04</td>\n",
       "    </tr>\n",
       "    <tr>\n",
       "      <th>mean</th>\n",
       "      <td>6.298282e+21</td>\n",
       "    </tr>\n",
       "    <tr>\n",
       "      <th>std</th>\n",
       "      <td>1.045540e+23</td>\n",
       "    </tr>\n",
       "    <tr>\n",
       "      <th>min</th>\n",
       "      <td>3.284010e+20</td>\n",
       "    </tr>\n",
       "    <tr>\n",
       "      <th>25%</th>\n",
       "      <td>4.840143e+20</td>\n",
       "    </tr>\n",
       "    <tr>\n",
       "      <th>50%</th>\n",
       "      <td>8.000000e+20</td>\n",
       "    </tr>\n",
       "    <tr>\n",
       "      <th>75%</th>\n",
       "      <td>1.899113e+21</td>\n",
       "    </tr>\n",
       "    <tr>\n",
       "      <th>max</th>\n",
       "      <td>1.002810e+25</td>\n",
       "    </tr>\n",
       "  </tbody>\n",
       "</table>\n",
       "</div>"
      ],
      "text/plain": [
       "        eth_balance\n",
       "count  1.600000e+04\n",
       "mean   6.298282e+21\n",
       "std    1.045540e+23\n",
       "min    3.284010e+20\n",
       "25%    4.840143e+20\n",
       "50%    8.000000e+20\n",
       "75%    1.899113e+21\n",
       "max    1.002810e+25"
      ]
     },
     "execution_count": 3,
     "metadata": {},
     "output_type": "execute_result"
    }
   ],
   "source": [
    "df.describe()"
   ]
  },
  {
   "cell_type": "code",
   "execution_count": 4,
   "metadata": {},
   "outputs": [
    {
     "name": "stdout",
     "output_type": "stream",
     "text": [
      "Wallet containing the lowest balance 3.28401e+20 wei\n"
     ]
    }
   ],
   "source": [
    "low_bal_wallet = df.iloc[-1]\n",
    "#lowest balance\n",
    "lowestbalance = low_bal_wallet.eth_balance\n",
    "#ether balances are measured in wei\n",
    "print(f\"Wallet containing the lowest balance {lowestbalance} wei\")"
   ]
  },
  {
   "cell_type": "code",
   "execution_count": 5,
   "metadata": {},
   "outputs": [],
   "source": [
    "def weiNumpy_to_weiInt(wei_numpy):\n",
    "    wei_int = int(wei_numpy)\n",
    "    return wei_int"
   ]
  },
  {
   "cell_type": "code",
   "execution_count": 6,
   "metadata": {},
   "outputs": [
    {
     "data": {
      "text/html": [
       "<div>\n",
       "<style scoped>\n",
       "    .dataframe tbody tr th:only-of-type {\n",
       "        vertical-align: middle;\n",
       "    }\n",
       "\n",
       "    .dataframe tbody tr th {\n",
       "        vertical-align: top;\n",
       "    }\n",
       "\n",
       "    .dataframe thead th {\n",
       "        text-align: right;\n",
       "    }\n",
       "</style>\n",
       "<table border=\"1\" class=\"dataframe\">\n",
       "  <thead>\n",
       "    <tr style=\"text-align: right;\">\n",
       "      <th></th>\n",
       "      <th>address</th>\n",
       "      <th>eth_balance</th>\n",
       "      <th>wei_int</th>\n",
       "    </tr>\n",
       "  </thead>\n",
       "  <tbody>\n",
       "    <tr>\n",
       "      <th>0</th>\n",
       "      <td>0x00000000219ab540356cbb839cbe05303d7705fa</td>\n",
       "      <td>1.002810e+25</td>\n",
       "      <td>10028099999999999889899520</td>\n",
       "    </tr>\n",
       "    <tr>\n",
       "      <th>1</th>\n",
       "      <td>0xc02aaa39b223fe8d0a0e5c4f27ead9083c756cc2</td>\n",
       "      <td>7.101470e+24</td>\n",
       "      <td>7101469999999999769837568</td>\n",
       "    </tr>\n",
       "    <tr>\n",
       "      <th>2</th>\n",
       "      <td>0xda9dfa130df4de4673b89022ee50ff26f6ea73cf</td>\n",
       "      <td>2.113030e+24</td>\n",
       "      <td>2113029999999999927123968</td>\n",
       "    </tr>\n",
       "    <tr>\n",
       "      <th>3</th>\n",
       "      <td>0xbe0eb53f46cd790cd13851d5eff43d12404d33e8</td>\n",
       "      <td>1.996010e+24</td>\n",
       "      <td>1996009999999999976407040</td>\n",
       "    </tr>\n",
       "    <tr>\n",
       "      <th>4</th>\n",
       "      <td>0x73bceb1cd57c711feac4224d062b0f6ff338501e</td>\n",
       "      <td>1.993500e+24</td>\n",
       "      <td>1993500000000000084934656</td>\n",
       "    </tr>\n",
       "  </tbody>\n",
       "</table>\n",
       "</div>"
      ],
      "text/plain": [
       "                                      address   eth_balance  \\\n",
       "0  0x00000000219ab540356cbb839cbe05303d7705fa  1.002810e+25   \n",
       "1  0xc02aaa39b223fe8d0a0e5c4f27ead9083c756cc2  7.101470e+24   \n",
       "2  0xda9dfa130df4de4673b89022ee50ff26f6ea73cf  2.113030e+24   \n",
       "3  0xbe0eb53f46cd790cd13851d5eff43d12404d33e8  1.996010e+24   \n",
       "4  0x73bceb1cd57c711feac4224d062b0f6ff338501e  1.993500e+24   \n",
       "\n",
       "                      wei_int  \n",
       "0  10028099999999999889899520  \n",
       "1   7101469999999999769837568  \n",
       "2   2113029999999999927123968  \n",
       "3   1996009999999999976407040  \n",
       "4   1993500000000000084934656  "
      ]
     },
     "execution_count": 6,
     "metadata": {},
     "output_type": "execute_result"
    }
   ],
   "source": [
    "df[\"wei_int\"] = df.eth_balance.apply(weiNumpy_to_weiInt)\n",
    "df.head()"
   ]
  },
  {
   "cell_type": "code",
   "execution_count": 7,
   "metadata": {},
   "outputs": [
    {
     "data": {
      "text/plain": [
       "count                      16000\n",
       "unique                     13805\n",
       "top       1000000000000000000000\n",
       "freq                         215\n",
       "Name: wei_int, dtype: object"
      ]
     },
     "execution_count": 7,
     "metadata": {},
     "output_type": "execute_result"
    }
   ],
   "source": [
    "df.wei_int.describe()"
   ]
  },
  {
   "cell_type": "code",
   "execution_count": 9,
   "metadata": {},
   "outputs": [],
   "source": [
    "from web3 import Web3"
   ]
  },
  {
   "cell_type": "code",
   "execution_count": 10,
   "metadata": {},
   "outputs": [
    {
     "name": "stdout",
     "output_type": "stream",
     "text": [
      "max_ether_bal=Decimal('10028099.99999999988989952')\n"
     ]
    }
   ],
   "source": [
    "high_bal_wallet = df.wei_int.iloc[0]\n",
    "max_ether_bal = Web3.fromWei(high_bal_wallet, 'ether')\n",
    "print(f\"{max_ether_bal=}\")"
   ]
  },
  {
   "cell_type": "code",
   "execution_count": 11,
   "metadata": {},
   "outputs": [],
   "source": [
    "wei_int_to_eth_dec = lambda wei_int : Web3.fromWei(wei_int, 'ether')\n",
    "#creating the ether column\n",
    "df['ether'] = df.wei_int.apply(wei_int_to_eth_dec)"
   ]
  },
  {
   "cell_type": "code",
   "execution_count": 12,
   "metadata": {},
   "outputs": [],
   "source": [
    "import matplotlib.pyplot as plt\n",
    "plt.style.use('seaborn-whitegrid')"
   ]
  },
  {
   "cell_type": "code",
   "execution_count": 57,
   "metadata": {},
   "outputs": [
    {
     "name": "stderr",
     "output_type": "stream",
     "text": [
      "C:\\Users\\abhis\\AppData\\Local\\Packages\\PythonSoftwareFoundation.Python.3.9_qbz5n2kfra8p0\\LocalCache\\local-packages\\Python39\\site-packages\\seaborn\\_decorators.py:36: FutureWarning: Pass the following variables as keyword args: x, y. From version 0.12, the only valid positional argument will be `data`, and passing other arguments without an explicit keyword will result in an error or misinterpretation.\n",
      "  warnings.warn(\n"
     ]
    },
    {
     "data": {
      "text/plain": [
       "<AxesSubplot:xlabel='ether', ylabel='Relative-Percentage'>"
      ]
     },
     "execution_count": 57,
     "metadata": {},
     "output_type": "execute_result"
    },
    {
     "data": {
      "image/png": "[encoded data removed]",
      "text/plain": [
       "<Figure size 1080x576 with 1 Axes>"
      ]
     },
     "metadata": {},
     "output_type": "display_data"
    }
   ],
   "source": [
    "bins =df.ether.iloc[-15000:]\n",
    "f,a = plt.subplots(figsize=(15,8))\n",
    "a.set_ylabel('Relative-Percentage')\n",
    "a.set_xlabel('ether')\n",
    "sns.scatterplot(bins,df.ether.iloc[-15000:])"
   ]
  },
  {
   "cell_type": "markdown",
   "metadata": {},
   "source": [
    "A scatter plot over this method results in less meaning, it can be intrepreted with a time series data instead to give a meaningful insight."
   ]
  }
 ],
 "metadata": {
  "interpreter": {
   "hash": "5e02132598556c797d3bc8abbd6e62d3acba388094e221a9dfd016b1bfb0997d"
  },
  "kernelspec": {
   "display_name": "Python 3.9.10 64-bit (windows store)",
   "language": "python",
   "name": "python3"
  },
  "language_info": {
   "codemirror_mode": {
    "name": "ipython",
    "version": 3
   },
   "file_extension": ".py",
   "mimetype": "text/x-python",
   "name": "python",
   "nbconvert_exporter": "python",
   "pygments_lexer": "ipython3",
   "version": "3.9.10"
  },
  "orig_nbformat": 4
 },
 "nbformat": 4,
 "nbformat_minor": 2
}
